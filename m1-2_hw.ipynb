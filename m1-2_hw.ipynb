{
 "cells": [
  {
   "cell_type": "markdown",
   "metadata": {},
   "source": [
    "### Типы данных str, int, float и методы строк"
   ]
  },
  {
   "cell_type": "markdown",
   "metadata": {},
   "source": [
    "1. Попросите пользователя ввести его имя через функцию `input()` и выведите приветствие с использованием f-строк."
   ]
  },
  {
   "cell_type": "code",
   "execution_count": null,
   "metadata": {},
   "outputs": [],
   "source": "print(f'Hello, {input(\"What is your name: \")}!')"
  },
  {
   "cell_type": "markdown",
   "metadata": {},
   "source": [
    "2. Создайте переменную типа `int` со значением 42 и преобразуйте её в строку. Выведите результат на экран <button class='citation-flag' data-index='2'>."
   ]
  },
  {
   "cell_type": "code",
   "execution_count": null,
   "metadata": {},
   "outputs": [],
   "source": [
    "num = 42\n",
    "print(type(num))\n",
    "print(type(str(num)))"
   ]
  },
  {
   "cell_type": "markdown",
   "metadata": {},
   "source": [
    "3. Запросите у пользователя два числа, сложите их и выведите результат с помощью функции `print()`. "
   ]
  },
  {
   "cell_type": "code",
   "execution_count": null,
   "metadata": {},
   "outputs": [],
   "source": [
    "firstNumber = int(input(\"Enter first number: \"))\n",
    "secondNumber = int(input(\"Enter second number: \"))\n",
    "print(firstNumber + secondNumber)"
   ]
  },
  {
   "cell_type": "markdown",
   "metadata": {},
   "source": [
    "4. Спросите у пользователя его возраст и проверьте, является ли он числом, используя метод `.isdigit()`."
   ]
  },
  {
   "cell_type": "code",
   "execution_count": null,
   "metadata": {},
   "outputs": [],
   "source": "print(input(\"Enter your age: \").isdigit())"
  },
  {
   "cell_type": "markdown",
   "metadata": {},
   "source": [
    "5. Напишите программу, которая принимает строку от пользователя и выводит её в верхнем регистре."
   ]
  },
  {
   "cell_type": "code",
   "execution_count": null,
   "metadata": {},
   "outputs": [],
   "source": "print(input(\"Enter a string: \").upper())"
  },
  {
   "cell_type": "markdown",
   "metadata": {},
   "source": [
    "6. Дана строка \"hello world\". Используя метод `.split()`, разделите строку по пробелам и выведите получившийся список."
   ]
  },
  {
   "cell_type": "code",
   "execution_count": null,
   "metadata": {},
   "outputs": [],
   "source": "print(\"hello world\".split(' '))"
  },
  {
   "cell_type": "markdown",
   "metadata": {},
   "source": [
    "7. Дан текст. Определите количество букв 'a' в этом тексте с помощью метода `.count()`."
   ]
  },
  {
   "cell_type": "code",
   "execution_count": null,
   "metadata": {},
   "outputs": [],
   "source": [
    "text = \"A lazy cat sat and ate a banana.\"\n",
    "print(text.count('a'))"
   ]
  },
  {
   "cell_type": "markdown",
   "metadata": {},
   "source": [
    "8. Попросите пользователя ввести предложение. Проверьте, начинается ли оно с буквы 'а', используя метод `.startswith()`."
   ]
  },
  {
   "cell_type": "code",
   "execution_count": null,
   "metadata": {},
   "outputs": [],
   "source": "print(input(\"Enter a sentence: \").startswith('a'))"
  },
  {
   "cell_type": "markdown",
   "metadata": {},
   "source": [
    "9. Напишите программу, которая заменяет все пробелы в строке на символы подчёркивания '_'."
   ]
  },
  {
   "cell_type": "code",
   "execution_count": null,
   "metadata": {},
   "outputs": [],
   "source": [
    "text2 = \"The sun sets, casting warm colors across the sky.\"\n",
    "print(text2.replace(' ', '_'))"
   ]
  },
  {
   "cell_type": "markdown",
   "metadata": {},
   "source": [
    "10. Дан список слов. Объедините их в одну строку, где слова разделены запятыми, используя метод `.join()`. "
   ]
  },
  {
   "cell_type": "code",
   "execution_count": null,
   "metadata": {},
   "outputs": [],
   "source": [
    "words = [\"apple\", \"book\", \"chair\", \"dog\", \"flower\"]\n",
    "print(\", \".join(words))"
   ]
  },
  {
   "cell_type": "markdown",
   "metadata": {},
   "source": [
    "11. Попросите пользователя ввести строку и найдите индекс первого вхождения буквы 'e'."
   ]
  },
  {
   "cell_type": "code",
   "execution_count": null,
   "metadata": {},
   "outputs": [],
   "source": "print(input(\"Enter a something: \").find('e'))"
  },
  {
   "cell_type": "markdown",
   "metadata": {},
   "source": [
    "12. Создайте программу, которая принимает строку и выводит её в обратном порядке."
   ]
  },
  {
   "cell_type": "code",
   "execution_count": null,
   "metadata": {},
   "outputs": [],
   "source": [
    "text = \"The sun sets behind the mountains.\"\n",
    "\n",
    "\n",
    "def reverse(string):\n",
    "    return string[::-1]\n",
    "\n",
    "\n",
    "print(reverse(text))"
   ]
  },
  {
   "cell_type": "markdown",
   "metadata": {},
   "source": [
    "13. Напишите код, который преобразует температуру из градусов Цельсия в Фаренгейты и наоборот, используя формулы конвертации."
   ]
  },
  {
   "cell_type": "code",
   "execution_count": null,
   "metadata": {},
   "outputs": [],
   "source": [
    "def converter(cel_degrees):\n",
    "    return cel_degrees * 9 / 5 + 32\n",
    "\n",
    "\n",
    "print(converter(36))"
   ]
  },
  {
   "cell_type": "markdown",
   "metadata": {},
   "source": [
    "14. Запросите у пользователя строку и удалите из неё все цифры."
   ]
  },
  {
   "cell_type": "code",
   "execution_count": null,
   "metadata": {},
   "outputs": [],
   "source": [
    "user_string = input(\"Enter a string: \")\n",
    "print(''.join(char for char in user_string if not char.isdigit()))"
   ]
  },
  {
   "cell_type": "markdown",
   "metadata": {},
   "source": [
    "15. Напишите программу, которая спрашивает у пользователя строку и выводит только уникальные символы этой строки."
   ]
  },
  {
   "cell_type": "code",
   "execution_count": null,
   "metadata": {},
   "outputs": [],
   "source": [
    "user_string = input(\"Enter a string: \")\n",
    "print(''.join(set(user_string)))"
   ]
  },
  {
   "cell_type": "markdown",
   "metadata": {},
   "source": [
    "16. Напишите функцию, которая принимает строку и возвращает её без повторяющихся символов."
   ]
  },
  {
   "cell_type": "code",
   "execution_count": null,
   "metadata": {},
   "outputs": [],
   "source": [
    "def no_double(string):\n",
    "    out = set()\n",
    "    result = []\n",
    "    for char in string:\n",
    "        if char not in out:\n",
    "            out.add(char)\n",
    "            result.append(char)\n",
    "    return ''.join(result)\n",
    "\n",
    "\n",
    "print(no_double('aaabbccddeeffgg'))"
   ]
  },
  {
   "cell_type": "markdown",
   "metadata": {},
   "source": [
    "### Итерируемые типы данных: list, dict, set"
   ]
  },
  {
   "cell_type": "markdown",
   "metadata": {},
   "source": [
    "#### Lists"
   ]
  },
  {
   "cell_type": "markdown",
   "metadata": {},
   "source": [
    "1. Создайте список из трёх элементов и выведите его содержимое."
   ]
  },
  {
   "cell_type": "code",
   "execution_count": null,
   "metadata": {},
   "outputs": [],
   "source": [
    "list = ['one', 'two', 'three']\n",
    "print(list)"
   ]
  },
  {
   "cell_type": "markdown",
   "metadata": {},
   "source": [
    "2. Дан список чисел. Найдите сумму всех элементов списка."
   ]
  },
  {
   "cell_type": "code",
   "execution_count": null,
   "metadata": {},
   "outputs": [],
   "source": [
    "numbers = [10, 20, 30, 40, 50]\n",
    "print(sum(numbers))"
   ]
  },
  {
   "cell_type": "markdown",
   "metadata": {},
   "source": [
    "3. Напишите программу, которая добавляет число в конец списка, если его там ещё нет."
   ]
  },
  {
   "cell_type": "code",
   "execution_count": null,
   "metadata": {},
   "outputs": [],
   "source": [
    "num_list = [10, 20, 30, 40, 50]\n",
    "\n",
    "\n",
    "def add_to_end(num):\n",
    "    if num not in num_list:\n",
    "        num_list.append(num)\n",
    "    else:\n",
    "        print('Already added')"
   ]
  },
  {
   "cell_type": "markdown",
   "metadata": {},
   "source": [
    "4. Удалите последний элемент списка и выведите обновлённый список."
   ]
  },
  {
   "cell_type": "code",
   "execution_count": null,
   "metadata": {},
   "outputs": [],
   "source": [
    "list = ['one', 'two', 'three']\n",
    "list.pop()\n",
    "print(list)"
   ]
  },
  {
   "cell_type": "markdown",
   "metadata": {},
   "source": [
    "5. Дан список строк. Найдите самую длинную строку в списке."
   ]
  },
  {
   "cell_type": "code",
   "execution_count": null,
   "metadata": {},
   "outputs": [],
   "source": [
    "strings = ['one', 'two', 'three']\n",
    "longest = max(strings, key=len)\n",
    "print(longest)"
   ]
  },
  {
   "cell_type": "markdown",
   "metadata": {},
   "source": [
    "6. Создайте список чисел и найдите среднее арифметическое этих чисел."
   ]
  },
  {
   "cell_type": "code",
   "execution_count": null,
   "metadata": {},
   "outputs": [],
   "source": [
    "numbers = [10, 20, 30, 40, 50]\n",
    "print(sum(numbers) / len(numbers))"
   ]
  },
  {
   "cell_type": "markdown",
   "metadata": {},
   "source": [
    "7. Дан список имён. Отсортируйте этот список в алфавитном порядке."
   ]
  },
  {
   "cell_type": "code",
   "execution_count": null,
   "metadata": {},
   "outputs": [],
   "source": [
    "names = [\"Ethan\", \"Alice\", \"Bob\", \"Diana\", \"Charlie\"]\n",
    "names.sort()\n",
    "print(names)"
   ]
  },
  {
   "cell_type": "markdown",
   "metadata": {},
   "source": [
    "8. Напишите программу, которая объединяет два списка без дублирования элементов."
   ]
  },
  {
   "cell_type": "code",
   "execution_count": null,
   "metadata": {},
   "outputs": [],
   "source": [
    "list1 = [\"apple\", \"banana\", \"cherry\"]\n",
    "list2 = [\"grape\", \"banana\", \"orange\"]\n",
    "print(list(set(list1) | set(list2)))"
   ]
  },
  {
   "cell_type": "markdown",
   "metadata": {},
   "source": [
    "9. Создайте список чисел и найдите произведение всех чётных чисел в нём."
   ]
  },
  {
   "cell_type": "code",
   "execution_count": null,
   "metadata": {},
   "outputs": [],
   "source": [
    "numbers = [1, 2, 3, 4, 5, 6, 7, 8, 9, 10]\n",
    "print(sum(num for num in numbers if num % 2 == 0))"
   ]
  },
  {
   "cell_type": "markdown",
   "metadata": {},
   "source": [
    "10. Напишите код, который создаёт копию списка с помощью метода `.copy()`."
   ]
  },
  {
   "cell_type": "code",
   "execution_count": null,
   "metadata": {},
   "outputs": [],
   "source": [
    "strings = ['one', 'two', 'three']\n",
    "copy_list = strings.copy()"
   ]
  },
  {
   "cell_type": "markdown",
   "metadata": {},
   "source": [
    "11. Дан список чисел. Найдите второе наибольшее число в списке."
   ]
  },
  {
   "cell_type": "code",
   "execution_count": null,
   "metadata": {},
   "outputs": [],
   "source": [
    "numbers = [1, 2, 3, 4, 2, 5, 3, 6, 7, 1, 8, 4, 9, 5, 10]\n",
    "numbers.sort()\n",
    "print(numbers[-2])"
   ]
  },
  {
   "cell_type": "markdown",
   "metadata": {},
   "source": [
    "12. Создайте список чисел и найдите разницу между максимальным и минимальным значениями."
   ]
  },
  {
   "cell_type": "code",
   "execution_count": null,
   "metadata": {},
   "outputs": [],
   "source": [
    "numbers = [1, 2, 3, 4, 5, 6, 7, 8, 9, 10]\n",
    "max_num = max(numbers)\n",
    "min_num = min(numbers)\n",
    "print(max_num - min_num)"
   ]
  },
  {
   "cell_type": "markdown",
   "metadata": {},
   "source": [
    "13. Напишите программу, которая переворачивает список (последний элемент становится первым)."
   ]
  },
  {
   "cell_type": "code",
   "execution_count": null,
   "metadata": {},
   "outputs": [],
   "source": [
    "names = [\"Ethan\", \"Alice\", \"Bob\", \"Diana\", \"Charlie\"]\n",
    "names.reverse()\n",
    "print(names)"
   ]
  },
  {
   "cell_type": "markdown",
   "metadata": {},
   "source": [
    "14. Дан список чисел. Удалите все чётные числа из списка."
   ]
  },
  {
   "cell_type": "code",
   "execution_count": null,
   "metadata": {},
   "outputs": [],
   "source": [
    "numbers = [1, 2, 3, 4, 5, 6, 7, 8, 9, 10]\n",
    "without_even = [num for num in numbers if num % 2 != 0]\n",
    "print(without_even)"
   ]
  },
  {
   "cell_type": "markdown",
   "metadata": {},
   "source": [
    "15. Создайте список чисел и найдите количество уникальных элементов в нём."
   ]
  },
  {
   "cell_type": "code",
   "execution_count": null,
   "metadata": {},
   "outputs": [],
   "source": [
    "numbers = [1, 2, 3, 4, 2, 5, 3, 6, 7, 1, 8, 4, 9, 5, 10]\n",
    "print(len(set(numbers)))"
   ]
  },
  {
   "cell_type": "markdown",
   "metadata": {},
   "source": [
    "#### Dictionaries"
   ]
  },
  {
   "cell_type": "markdown",
   "metadata": {},
   "source": [
    "1. Создайте словарь с тремя парами ключ-значение и выведите его содержимое."
   ]
  },
  {
   "cell_type": "code",
   "execution_count": null,
   "metadata": {},
   "outputs": [],
   "source": [
    "my_dict = {\n",
    "    'key1': 'value1',\n",
    "    'key2': 2,\n",
    "    'key3': True\n",
    "}\n",
    "print(my_dict)"
   ]
  },
  {
   "cell_type": "markdown",
   "metadata": {},
   "source": [
    "2. Дан словарь. Добавьте новую пару ключ-значение."
   ]
  },
  {
   "cell_type": "code",
   "execution_count": null,
   "metadata": {},
   "outputs": [],
   "source": [
    "my_dict = {\n",
    "    'key1': 'value1',\n",
    "    'key2': 2,\n",
    "    'key3': True\n",
    "}\n",
    "print('Old:', my_dict)\n",
    "my_dict['key4'] = list('Value4')\n",
    "print('New:', my_dict)"
   ]
  },
  {
   "cell_type": "markdown",
   "metadata": {},
   "source": [
    "3. Удалите элемент из словаря по ключу."
   ]
  },
  {
   "cell_type": "code",
   "execution_count": null,
   "metadata": {},
   "outputs": [],
   "source": [
    "my_dict = {\n",
    "    'key1': 'value1',\n",
    "    'key2': 2,\n",
    "    'key3': True\n",
    "}\n",
    "print('Old:', my_dict)\n",
    "my_dict.pop('key1')\n",
    "print('New:', my_dict)"
   ]
  },
  {
   "cell_type": "markdown",
   "metadata": {},
   "source": [
    "4. Напишите программу, которая проверяет наличие ключа в словаре."
   ]
  },
  {
   "cell_type": "code",
   "execution_count": null,
   "metadata": {},
   "outputs": [],
   "source": [
    "my_dict = {\n",
    "    'key1': 'value1',\n",
    "    'key2': 2,\n",
    "    'key3': True\n",
    "}\n",
    "print(f\"{'key1' in my_dict =}\")\n",
    "print(f\"{'abc' in my_dict =}\")"
   ]
  },
  {
   "cell_type": "markdown",
   "metadata": {},
   "source": [
    "5. Дан словарь. Найдите сумму всех значений в словаре."
   ]
  },
  {
   "cell_type": "code",
   "execution_count": null,
   "metadata": {},
   "outputs": [],
   "source": [
    "my_dict = {'a': 5, 'b': 12, 'c': 3}\n",
    "print(sum(my_dict.values()))"
   ]
  },
  {
   "cell_type": "markdown",
   "metadata": {},
   "source": [
    "6. Создайте словарь и найдите ключ с максимальным значением."
   ]
  },
  {
   "cell_type": "code",
   "execution_count": null,
   "metadata": {},
   "outputs": [],
   "source": [
    "my_dict = {'a': 5, 'b': 12, 'c': 3}\n",
    "keys_list = list(my_dict.keys())\n",
    "values_list = list(my_dict.values())\n",
    "max_value_i = values_list.index(max(values_list))\n",
    "max_value_key = keys_list[max_value_i]\n",
    "print('Key with max value:', max_value_key)"
   ]
  },
  {
   "cell_type": "markdown",
   "metadata": {},
   "source": [
    "7. Напишите код, который меняет местами ключи и значения в словаре."
   ]
  },
  {
   "cell_type": "code",
   "execution_count": null,
   "metadata": {},
   "outputs": [],
   "source": [
    "my_dict = {\n",
    "    'key1': 'value1',\n",
    "    'key2': 2,\n",
    "    'key3': True,\n",
    "    'key4': list('Value4'),\n",
    "    'key5': 2\n",
    "}\n",
    "new_dict = dict()\n",
    "keys = my_dict.keys()\n",
    "for key in keys:\n",
    "    new_dict[str(my_dict[key])] = key\n",
    "print('Old:', my_dict)\n",
    "print('New:', new_dict)"
   ]
  },
  {
   "cell_type": "markdown",
   "metadata": {},
   "source": [
    "8. Дан словарь. Найдите среднее значение всех значений в словаре."
   ]
  },
  {
   "cell_type": "code",
   "execution_count": null,
   "metadata": {},
   "outputs": [],
   "source": [
    "my_dict = {'a': 5, 'b': 12, 'c': 4}\n",
    "dict_mean = sum(my_dict.values()) / len(my_dict)\n",
    "print('Mean:', dict_mean)"
   ]
  },
  {
   "cell_type": "markdown",
   "metadata": {},
   "source": [
    "9. Создайте словарь и найдите ключ с минимальным значением."
   ]
  },
  {
   "cell_type": "code",
   "execution_count": null,
   "metadata": {},
   "outputs": [],
   "source": [
    "my_dict = {'a': 5, 'b': 12, 'c': 3}\n",
    "min_value_key = min(my_dict, key=my_dict.get)\n",
    "print('Key with min value:', min_value_key)"
   ]
  },
  {
   "cell_type": "markdown",
   "metadata": {},
   "source": [
    "10. Напишите программу, которая объединяет два словаря."
   ]
  },
  {
   "cell_type": "code",
   "execution_count": null,
   "metadata": {},
   "outputs": [],
   "source": [
    "dict1 = {'a': 5, 'b': 12, 'c': 3}\n",
    "dict2 = {'b': 0, 'd': 2, 'e': -8}\n",
    "res_dict = dict()\n",
    "res_dict.update(dict1)\n",
    "res_dict.update(dict2)\n",
    "print('First:', dict1)\n",
    "print('Second:', dict2)\n",
    "print('Result:', res_dict)"
   ]
  },
  {
   "cell_type": "markdown",
   "metadata": {},
   "source": [
    "11. Дан словарь. Удалите все элементы, значения которых равны None."
   ]
  },
  {
   "cell_type": "code",
   "execution_count": null,
   "metadata": {},
   "outputs": [],
   "source": [
    "my_dict = {'a': 5, 'b': None, 'c': 3, 'd': None}\n",
    "print('With None:', my_dict)\n",
    "no_none_dict = dict()\n",
    "for key in my_dict:\n",
    "    if my_dict[key] is not None:\n",
    "        no_none_dict[key] = my_dict[key]\n",
    "print('No None:', no_none_dict)"
   ]
  },
  {
   "cell_type": "markdown",
   "metadata": {},
   "source": [
    "12. Создайте словарь и найдите количество уникальных значений."
   ]
  },
  {
   "cell_type": "code",
   "execution_count": null,
   "metadata": {},
   "outputs": [],
   "source": [
    "my_dict = {'a': 5, 'b': 3, 'c': 3, 'd': 2, 'e': -8}\n",
    "values_list = list(my_dict.values())\n",
    "unique_count = 0\n",
    "for value in values_list:\n",
    "    if values_list.count(value) == 1:\n",
    "        unique_count += 1\n",
    "print('Unique elements amount:', unique_count)"
   ]
  },
  {
   "cell_type": "markdown",
   "metadata": {},
   "source": [
    "13. Напишите код, который создаёт словарь из двух списков, где один список содержит ключи, а другой — значения."
   ]
  },
  {
   "cell_type": "code",
   "execution_count": null,
   "metadata": {},
   "outputs": [],
   "source": [
    "keys_list = ['key1', 'key2', 'key3']\n",
    "values_list = ['value1', 2, True]\n",
    "new_dict = dict()\n",
    "for i, key in enumerate(keys_list):\n",
    "    new_dict[key] = values_list[i]\n",
    "print(new_dict)"
   ]
  },
  {
   "cell_type": "markdown",
   "metadata": {},
   "source": [
    "14. Дан словарь. Найдите все ключи, значения которых больше определённого числа."
   ]
  },
  {
   "cell_type": "code",
   "execution_count": null,
   "metadata": {},
   "outputs": [],
   "source": [
    "my_dict = {'a': 5, 'b': 7, 'c': 3, 'd': 2, 'e': -8}\n",
    "value_to_compare = 4\n",
    "res_keys = list()\n",
    "for key, value in my_dict.items():\n",
    "    if value > value_to_compare:\n",
    "        res_keys.append(key)\n",
    "print(f'Keys with values higher then {value_to_compare}:', ', '.join(res_keys))"
   ]
  },
  {
   "cell_type": "markdown",
   "metadata": {},
   "source": [
    "15. Создайте словарь и найдите разницу между максимальным и минимальным значениями."
   ]
  },
  {
   "cell_type": "code",
   "execution_count": null,
   "metadata": {},
   "outputs": [],
   "source": [
    "my_dict = {'a': 5, 'b': 7, 'c': 3, 'd': 2, 'e': -8}\n",
    "max_value = max(my_dict.values())\n",
    "min_value = min(my_dict.values())\n",
    "print('Max-min difference:', max_value - min_value)"
   ]
  },
  {
   "cell_type": "markdown",
   "metadata": {},
   "source": [
    "#### Sets"
   ]
  },
  {
   "cell_type": "markdown",
   "metadata": {},
   "source": [
    "1. Создайте множество из трёх элементов и выведите его содержимое."
   ]
  },
  {
   "cell_type": "code",
   "execution_count": null,
   "metadata": {},
   "outputs": [],
   "source": "print({1, 'a', False})"
  },
  {
   "cell_type": "markdown",
   "metadata": {},
   "source": [
    "2. Даны два множества. Найдите их пересечение."
   ]
  },
  {
   "cell_type": "code",
   "execution_count": null,
   "metadata": {},
   "outputs": [],
   "source": "print(set('apple') & set('people'))"
  },
  {
   "cell_type": "markdown",
   "metadata": {},
   "source": [
    "3. Напишите программу, которая добавляет элемент во множество."
   ]
  },
  {
   "cell_type": "code",
   "execution_count": null,
   "metadata": {},
   "outputs": [],
   "source": [
    "my_set = set('abc')\n",
    "my_set.add('d')\n",
    "print(my_set)"
   ]
  },
  {
   "cell_type": "markdown",
   "metadata": {},
   "source": [
    "4. Удалите элемент из множества."
   ]
  },
  {
   "cell_type": "code",
   "execution_count": null,
   "metadata": {},
   "outputs": [],
   "source": [
    "my_set = set('abcd')\n",
    "my_set.remove('a')\n",
    "print(my_set)"
   ]
  },
  {
   "cell_type": "markdown",
   "metadata": {},
   "source": [
    "5. Даны два множества. Найдите их объединение."
   ]
  },
  {
   "cell_type": "code",
   "execution_count": null,
   "metadata": {},
   "outputs": [],
   "source": [
    "set1 = set('abc')\n",
    "set2 = set('dbce')\n",
    "print(set1 | set2)"
   ]
  },
  {
   "cell_type": "markdown",
   "metadata": {},
   "source": [
    "6. Создайте множество и найдите количество элементов в нём."
   ]
  },
  {
   "cell_type": "code",
   "execution_count": null,
   "metadata": {},
   "outputs": [],
   "source": [
    "fruits = set(['apple', 'banana', 'orange'])\n",
    "print(len(fruits))"
   ]
  },
  {
   "cell_type": "markdown",
   "metadata": {},
   "source": [
    "7. Дано множество. Проверьте, содержит ли оно определённый элемент."
   ]
  },
  {
   "cell_type": "code",
   "execution_count": null,
   "metadata": {},
   "outputs": [],
   "source": [
    "fruits = set(['apple', 'banana', 'orange'])\n",
    "print(f\"{'banana' in fruits =}\")\n",
    "print(f\"{'pineapple' in fruits =}\")"
   ]
  },
  {
   "cell_type": "markdown",
   "metadata": {},
   "source": [
    "8. Напишите код, который создаёт множество из списка, удаляя дубликаты."
   ]
  },
  {
   "cell_type": "code",
   "execution_count": null,
   "metadata": {},
   "outputs": [],
   "source": [
    "fruits = ['apple', 'banana', 'orange', 'apple', 'apple', 'pineapple', 'orange', 'banana']\n",
    "fruits_set = set(fruits)\n",
    "print('List:', fruits)\n",
    "print('Set:', fruits_set)"
   ]
  },
  {
   "cell_type": "markdown",
   "metadata": {},
   "source": [
    "9. Даны два множества. Найдите их разность."
   ]
  },
  {
   "cell_type": "code",
   "execution_count": null,
   "metadata": {},
   "outputs": [],
   "source": [
    "set1 = set('apple')\n",
    "set2 = set('people')\n",
    "print(set1 - set2)"
   ]
  },
  {
   "cell_type": "markdown",
   "metadata": {},
   "source": [
    "10. Создайте множество и найдите максимальный элемент."
   ]
  },
  {
   "cell_type": "code",
   "execution_count": null,
   "metadata": {},
   "outputs": [],
   "source": [
    "my_set = set([1, 3, 5, 2, 4, 6])\n",
    "print(max(my_set))"
   ]
  },
  {
   "cell_type": "markdown",
   "metadata": {},
   "source": [
    "11. Дано множество. Найдите минимальный элемент."
   ]
  },
  {
   "cell_type": "code",
   "execution_count": null,
   "metadata": {},
   "outputs": [],
   "source": [
    "my_set = set([1, 3, 5, 2, 4, 6])\n",
    "print(min(my_set))"
   ]
  },
  {
   "cell_type": "markdown",
   "metadata": {},
   "source": [
    "12. Напишите программу, которая находит общие элементы между двумя множествами."
   ]
  },
  {
   "cell_type": "code",
   "execution_count": null,
   "metadata": {},
   "outputs": [],
   "source": [
    "set1 = set('bcdaf')\n",
    "set2 = set('mpfld')\n",
    "print(set1 & set2)"
   ]
  },
  {
   "cell_type": "markdown",
   "metadata": {},
   "source": [
    "13. Создайте множество и найдите сумму всех элементов."
   ]
  },
  {
   "cell_type": "code",
   "execution_count": null,
   "metadata": {},
   "outputs": [],
   "source": [
    "my_set = set([1, 3, 5, 2, 4, 6])\n",
    "print(sum(my_set))"
   ]
  },
  {
   "cell_type": "markdown",
   "metadata": {},
   "source": [
    "14. Даны два множества. Найдите симметричную разность."
   ]
  },
  {
   "cell_type": "code",
   "execution_count": null,
   "metadata": {},
   "outputs": [],
   "source": [
    "set1 = set('abdf')\n",
    "set2 = set('mfld')\n",
    "print(set1 ^ set2)"
   ]
  },
  {
   "cell_type": "markdown",
   "metadata": {},
   "source": [
    "15. Создайте множество и найдите произведение всех элементов."
   ]
  },
  {
   "cell_type": "code",
   "execution_count": null,
   "metadata": {},
   "outputs": [],
   "source": [
    "my_set = set([1, 3, 5, 2, 4, 6])\n",
    "res_mult = 1\n",
    "for item in my_set:\n",
    "    res_mult *= item\n",
    "print(res_mult)"
   ]
  },
  {
   "cell_type": "markdown",
   "metadata": {},
   "source": [
    "### Циклы for/while, условные конструкции"
   ]
  },
  {
   "cell_type": "markdown",
   "metadata": {},
   "source": [
    "1. Напишите программу, которая выводит числа от 1 до 10 с помощью цикла `for`."
   ]
  },
  {
   "cell_type": "code",
   "execution_count": null,
   "metadata": {},
   "outputs": [],
   "source": [
    "for i in range(1, 11):\n",
    "    print(i)"
   ]
  },
  {
   "cell_type": "markdown",
   "metadata": {},
   "source": [
    "2. Используя цикл `while`, попросите пользователя ввести положительное число."
   ]
  },
  {
   "cell_type": "code",
   "execution_count": null,
   "metadata": {},
   "outputs": [],
   "source": [
    "user_number = -1\n",
    "while user_number <= 0:\n",
    "    user_number = float(input('Enter a positive number:'))\n",
    "    if user_number <= 0:\n",
    "        print(f'{user_number} is not a positive number')\n",
    "print(f'{user_number} is a positive number!')"
   ]
  },
  {
   "cell_type": "markdown",
   "metadata": {},
   "source": [
    "3. Дан список чисел. Выведите только те, которые больше 5."
   ]
  },
  {
   "cell_type": "code",
   "execution_count": null,
   "metadata": {},
   "outputs": [],
   "source": [
    "num_list = [1, 3, 5, 2, 4, 6]\n",
    "for item in num_list:\n",
    "    if item > 5:\n",
    "        print(item)"
   ]
  },
  {
   "cell_type": "markdown",
   "metadata": {},
   "source": [
    "4. Напишите программу, которая считает сумму чисел от 1 до n, где n задаёт пользователь."
   ]
  },
  {
   "cell_type": "code",
   "execution_count": null,
   "metadata": {},
   "outputs": [],
   "source": [
    "user_n = int(input('Enter an integer equal or higher then 1:'))\n",
    "res_sum = 0\n",
    "for i in range(1, user_n + 1):\n",
    "    res_sum += i\n",
    "print(res_sum)"
   ]
  },
  {
   "cell_type": "markdown",
   "metadata": {},
   "source": [
    "5. Создайте программу, которая выводит таблицу умножения для числа, указанного пользователем."
   ]
  },
  {
   "cell_type": "code",
   "execution_count": null,
   "metadata": {},
   "outputs": [],
   "source": [
    "user_n = int(input('Enter a digit from 1 to 9:'))\n",
    "for i in range(1, 10):\n",
    "    print('%d * %d = %2d' % (user_n, i, user_n * i))"
   ]
  },
  {
   "cell_type": "markdown",
   "metadata": {},
   "source": [
    "6. Напишите программу, которая находит все простые числа до заданного числа."
   ]
  },
  {
   "cell_type": "code",
   "execution_count": null,
   "metadata": {},
   "outputs": [],
   "source": [
    "user_n = int(input('Enter an integer equal or higher then 2:'))\n",
    "prime_nums = []\n",
    "for i in range(2, user_n + 1):\n",
    "    curr_divider = 2\n",
    "    while i % curr_divider != 0:\n",
    "        curr_divider += 1\n",
    "    if i == curr_divider:\n",
    "        prime_nums.append(str(i))\n",
    "print(', '.join(prime_nums))"
   ]
  },
  {
   "cell_type": "markdown",
   "metadata": {},
   "source": [
    "7. Дан список чисел. Найдите все чётные числа с помощью цикла `for`."
   ]
  },
  {
   "cell_type": "code",
   "execution_count": null,
   "metadata": {},
   "outputs": [],
   "source": [
    "num_list = [1, 3, 5, 2, 4, 6]\n",
    "res_list = []\n",
    "for item in num_list:\n",
    "    if item % 2 == 0:\n",
    "        res_list.append(str(item))\n",
    "print(', '.join(res_list))"
   ]
  },
  {
   "cell_type": "markdown",
   "metadata": {},
   "source": [
    "8. Напишите код, который выводит только те строки из списка, которые содержат букву 'a'."
   ]
  },
  {
   "cell_type": "code",
   "execution_count": null,
   "metadata": {},
   "outputs": [],
   "source": [
    "my_list = ['apple', 'banana', 'orange', 'coconut']\n",
    "for item in my_list:\n",
    "    if 'a' in item:\n",
    "        print(item)"
   ]
  },
  {
   "cell_type": "markdown",
   "metadata": {},
   "source": [
    "9. Создайте программу, которая находит факториал числа, указанного пользователем."
   ]
  },
  {
   "cell_type": "code",
   "execution_count": null,
   "metadata": {},
   "outputs": [],
   "source": [
    "user_n = int(input('Enter an integer equal or higher then 1:'))\n",
    "res_fact = 1\n",
    "for i in range(1, user_n + 1):\n",
    "    res_fact *= i\n",
    "print(res_fact)"
   ]
  },
  {
   "cell_type": "markdown",
   "metadata": {},
   "source": [
    "10. Напишите программу, которая проверяет, является ли число палиндромом."
   ]
  },
  {
   "cell_type": "code",
   "execution_count": null,
   "metadata": {},
   "outputs": [],
   "source": [
    "num = 12321\n",
    "is_palin = str(num) == str(num)[::-1]\n",
    "print(is_palin)"
   ]
  },
  {
   "cell_type": "markdown",
   "metadata": {},
   "source": [
    "11. Дан список строк. Найдите все строки, длина которых больше 5."
   ]
  },
  {
   "cell_type": "code",
   "execution_count": null,
   "metadata": {},
   "outputs": [],
   "source": [
    "fruits = ['apple', 'banana', 'orange', 'coconut', 'kivi']\n",
    "res_list = []\n",
    "for fruit in fruits:\n",
    "    if len(fruit) > 5:\n",
    "        res_list.append(fruit)\n",
    "print(res_list)"
   ]
  },
  {
   "cell_type": "markdown",
   "metadata": {},
   "source": [
    "12. Напишите код, который находит наибольшее число среди введённых пользователем."
   ]
  },
  {
   "cell_type": "code",
   "execution_count": null,
   "metadata": {},
   "outputs": [],
   "source": [
    "inputs = []\n",
    "while True:\n",
    "    user_input = input('Enter any integer (enter \\'stop\\' to end):')\n",
    "    if user_input == 'stop':\n",
    "        break\n",
    "    inputs.append(int(user_input))\n",
    "print(max(inputs))"
   ]
  },
  {
   "cell_type": "markdown",
   "metadata": {},
   "source": [
    "13. Создайте программу, которая выводит числа Фибоначчи до заданного числа."
   ]
  },
  {
   "cell_type": "code",
   "execution_count": null,
   "metadata": {},
   "outputs": [],
   "source": [
    "user_n = int(input('Enter number position in the Fibonacci sequence (1 and more):'))\n",
    "fib_list = [0, 1]\n",
    "if user_n > 1:\n",
    "    for i in range(2, user_n + 1):\n",
    "        fib_list.append(fib_list[i - 1] + fib_list[i - 2])\n",
    "print(fib_list[1:user_n+1])"
   ]
  },
  {
   "cell_type": "markdown",
   "metadata": {},
   "source": [
    "14. Напишите программу, которая находит наибольший общий делитель двух чисел."
   ]
  },
  {
   "cell_type": "code",
   "execution_count": null,
   "metadata": {},
   "outputs": [],
   "source": [
    "num1 = int(input('Enter first number:'))\n",
    "num2 = int(input('Enter second number:'))\n",
    "gcd = 1\n",
    "for i in range(1, min(num1, num2) + 1):\n",
    "    if (num1 % i == 0) and (num2 % i == 0):\n",
    "        gcd = i\n",
    "print(gcd)"
   ]
  },
  {
   "cell_type": "markdown",
   "metadata": {},
   "source": [
    "15. Дан список чисел. Найдите все числа, которые делятся на 3 и 5 одновременно."
   ]
  },
  {
   "cell_type": "code",
   "execution_count": null,
   "metadata": {},
   "outputs": [],
   "source": [
    "my_list = [1, 3, 5, 2, 4, 6]\n",
    "res_list = []\n",
    "for item in my_list:\n",
    "    if (item % 3 == 0) and (item % 5 == 0):\n",
    "        res_list.append(item)\n",
    "print(res_list)"
   ]
  },
  {
   "cell_type": "markdown",
   "metadata": {},
   "source": [
    "16. Напишите программу, которая выводит звёздный треугольник заданной высоты."
   ]
  },
  {
   "cell_type": "code",
   "execution_count": null,
   "metadata": {},
   "outputs": [],
   "source": [
    "user_n = int(input('Enter triangle height:'))\n",
    "for i in range(1, user_n + 1):\n",
    "    print('*' * i)"
   ]
  },
  {
   "cell_type": "markdown",
   "metadata": {},
   "source": [
    "### Базовое применение функций"
   ]
  },
  {
   "cell_type": "markdown",
   "metadata": {},
   "source": [
    "1. Напишите функцию, которая складывает два числа и возвращает результат."
   ]
  },
  {
   "cell_type": "code",
   "execution_count": null,
   "metadata": {},
   "outputs": [],
   "source": [
    "def sum_numbers(a, b):\n",
    "    return a + b\n",
    "print(sum_numbers(2, 3))"
   ]
  },
  {
   "cell_type": "markdown",
   "metadata": {},
   "source": [
    "2. Создайте функцию, которая принимает список чисел и возвращает их сумму."
   ]
  },
  {
   "cell_type": "code",
   "execution_count": null,
   "metadata": {},
   "outputs": [],
   "source": [
    "def sum_list(in_list):\n",
    "    res = 0\n",
    "    for item in in_list:\n",
    "        res += item\n",
    "    return res\n",
    "print(sum_list([1, 3, 5, 2, 4, 6]))"
   ]
  },
  {
   "cell_type": "markdown",
   "metadata": {},
   "source": [
    "3. Напишите функцию, которая принимает строку и возвращает её в обратном порядке."
   ]
  },
  {
   "cell_type": "code",
   "execution_count": null,
   "metadata": {},
   "outputs": [],
   "source": [
    "def reverse(in_str):\n",
    "    return in_str[::-1]\n",
    "print(reverse('Fat fly'))"
   ]
  },
  {
   "cell_type": "markdown",
   "metadata": {},
   "source": [
    "4. Создайте функцию, которая принимает список строк и возвращает только те, которые содержат букву 'a'."
   ]
  },
  {
   "cell_type": "code",
   "execution_count": null,
   "metadata": {},
   "outputs": [],
   "source": [
    "def includes_a(str_list):\n",
    "    res = []\n",
    "    for item in str_list:\n",
    "        if 'a' in item:\n",
    "            res.append(item)\n",
    "    return res\n",
    "print(includes_a(['apple', 'banana', 'orange', 'coconut']))"
   ]
  },
  {
   "cell_type": "markdown",
   "metadata": {},
   "source": [
    "5. Напишите функцию, которая принимает число и возвращает True, если оно простое, и False в противном случае."
   ]
  },
  {
   "cell_type": "code",
   "execution_count": null,
   "metadata": {},
   "outputs": [],
   "source": [
    "def is_prime(in_num):\n",
    "    if in_num == 1:\n",
    "        return False\n",
    "    curr_divider = 2\n",
    "    while in_num % curr_divider != 0:\n",
    "        curr_divider += 1\n",
    "    return in_num == curr_divider\n",
    "print(f\"{is_prime(1) = }\")\n",
    "print(f\"{is_prime(2) = }\")"
   ]
  },
  {
   "cell_type": "markdown",
   "metadata": {},
   "source": [
    "6. Создайте функцию, которая принимает список чисел и возвращает новый список без дубликатов."
   ]
  },
  {
   "cell_type": "code",
   "execution_count": null,
   "metadata": {},
   "outputs": [],
   "source": [
    "def without_doubles(num_list):\n",
    "    res_list = []\n",
    "    for num in num_list:\n",
    "        if num not in res_list:\n",
    "            res_list.append(num)\n",
    "    return res_list\n",
    "print(without_doubles([1, 2, 3, 4, 2, 5, 3, 6, 7, 1, 8, 4, 9, 5, 10]))"
   ]
  },
  {
   "cell_type": "markdown",
   "metadata": {},
   "source": [
    "7. Напишите функцию, которая принимает строку и возвращает количество уникальных символов."
   ]
  },
  {
   "cell_type": "code",
   "execution_count": null,
   "metadata": {},
   "outputs": [],
   "source": [
    "def unique_symbols_count(in_str):\n",
    "    unique_count = 0\n",
    "    for char in in_str:\n",
    "        if in_str.count(char) == 1:\n",
    "            unique_count += 1\n",
    "    return unique_count\n",
    "print(f\"{unique_symbols_count('abcdefdea') = }\")"
   ]
  },
  {
   "cell_type": "markdown",
   "metadata": {},
   "source": [
    "8. Создайте функцию, которая принимает два списка и возвращает их пересечение."
   ]
  },
  {
   "cell_type": "code",
   "execution_count": null,
   "metadata": {},
   "outputs": [],
   "source": [
    "def list_intersection(list1, list2):\n",
    "    res_list = []\n",
    "    for item in list1:\n",
    "        if (item in list2) and (res_list.count(item) < min(list1.count(item), list2.count(item))):\n",
    "            res_list.append(item)\n",
    "    return res_list\n",
    "print(list_intersection(list('ababffde'), list('fbab')))"
   ]
  },
  {
   "cell_type": "markdown",
   "metadata": {},
   "source": [
    "9. Напишите функцию, которая принимает строку и возвращает её без пробелов."
   ]
  },
  {
   "cell_type": "code",
   "execution_count": null,
   "metadata": {},
   "outputs": [],
   "source": [
    "def remove_spaces(in_str):\n",
    "    return in_str.replace(' ', '')\n",
    "print(remove_spaces('Lorem ipsum  dolor sit a met'))"
   ]
  },
  {
   "cell_type": "markdown",
   "metadata": {},
   "source": [
    "10. Создайте функцию, которая принимает список чисел и возвращает среднее значение."
   ]
  },
  {
   "cell_type": "code",
   "execution_count": null,
   "metadata": {},
   "outputs": [],
   "source": [
    "def mean(num_list):\n",
    "    return sum(num_list) / len(num_list)\n",
    "print(mean([1, 3, 5, 2, 4, 6]))"
   ]
  }
 ],
 "metadata": {
  "language_info": {
   "name": "python"
  }
 },
 "nbformat": 4,
 "nbformat_minor": 2
}
